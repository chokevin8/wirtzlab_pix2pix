{
 "cells": [
  {
   "cell_type": "markdown",
   "metadata": {
    "colab_type": "text",
    "id": "view-in-github"
   },
   "source": [
    "<a href=\"https://colab.research.google.com/github/bkkaggle/pytorch-CycleGAN-and-pix2pix/blob/master/pix2pix.ipynb\" target=\"_parent\"><img src=\"https://colab.research.google.com/assets/colab-badge.svg\" alt=\"Open In Colab\"/></a>"
   ]
  },
  {
   "cell_type": "markdown",
   "metadata": {
    "colab_type": "text",
    "id": "7wNjDKdQy35h"
   },
   "source": [
    "# Install"
   ]
  },
  {
   "cell_type": "code",
   "execution_count": null,
   "metadata": {
    "colab": {},
    "colab_type": "code",
    "id": "TRm-USlsHgEV"
   },
   "outputs": [],
   "source": [
    "# !git clone https://github.com/junyanz/pytorch-CycleGAN-and-pix2pix"
   ]
  },
  {
   "cell_type": "code",
   "execution_count": 4,
   "metadata": {
    "colab": {},
    "colab_type": "code",
    "id": "Pt3igws3eiVp"
   },
   "outputs": [],
   "source": [
    "import os\n",
    "os.chdir(r'C:\\Users\\Kevin\\PycharmProjects\\pix2pix\\pytorch-CycleGAN-and-pix2pix/')"
   ]
  },
  {
   "cell_type": "code",
   "execution_count": 3,
   "metadata": {
    "colab": {},
    "colab_type": "code",
    "id": "z1EySlOXwwoa"
   },
   "outputs": [
    {
     "name": "stdout",
     "output_type": "stream",
     "text": [
      "Requirement already satisfied: torch>=1.4.0 in c:\\users\\kevin\\.conda\\envs\\pix2pix\\lib\\site-packages (from -r requirements.txt (line 1)) (1.13.1)\n",
      "Requirement already satisfied: torchvision>=0.5.0 in c:\\users\\kevin\\.conda\\envs\\pix2pix\\lib\\site-packages (from -r requirements.txt (line 2)) (0.14.1)\n",
      "Requirement already satisfied: dominate>=2.4.0 in c:\\users\\kevin\\.conda\\envs\\pix2pix\\lib\\site-packages (from -r requirements.txt (line 3)) (2.7.0)\n",
      "Requirement already satisfied: visdom>=0.1.8.8 in c:\\users\\kevin\\.conda\\envs\\pix2pix\\lib\\site-packages (from -r requirements.txt (line 4)) (0.2.4)\n",
      "Requirement already satisfied: wandb in c:\\users\\kevin\\.conda\\envs\\pix2pix\\lib\\site-packages (from -r requirements.txt (line 5)) (0.13.11)\n",
      "Requirement already satisfied: typing-extensions in c:\\users\\kevin\\.conda\\envs\\pix2pix\\lib\\site-packages (from torch>=1.4.0->-r requirements.txt (line 1)) (4.4.0)\n",
      "Requirement already satisfied: pillow!=8.3.*,>=5.3.0 in c:\\users\\kevin\\.conda\\envs\\pix2pix\\lib\\site-packages (from torchvision>=0.5.0->-r requirements.txt (line 2)) (9.4.0)\n",
      "Requirement already satisfied: numpy in c:\\users\\kevin\\.conda\\envs\\pix2pix\\lib\\site-packages (from torchvision>=0.5.0->-r requirements.txt (line 2)) (1.24.2)\n",
      "Requirement already satisfied: requests in c:\\users\\kevin\\.conda\\envs\\pix2pix\\lib\\site-packages (from torchvision>=0.5.0->-r requirements.txt (line 2)) (2.28.1)\n",
      "Requirement already satisfied: jsonpatch in c:\\users\\kevin\\.conda\\envs\\pix2pix\\lib\\site-packages (from visdom>=0.1.8.8->-r requirements.txt (line 4)) (1.32)\n",
      "Requirement already satisfied: networkx in c:\\users\\kevin\\.conda\\envs\\pix2pix\\lib\\site-packages (from visdom>=0.1.8.8->-r requirements.txt (line 4)) (3.0)\n",
      "Requirement already satisfied: six in c:\\users\\kevin\\.conda\\envs\\pix2pix\\lib\\site-packages (from visdom>=0.1.8.8->-r requirements.txt (line 4)) (1.16.0)\n",
      "Requirement already satisfied: websocket-client in c:\\users\\kevin\\.conda\\envs\\pix2pix\\lib\\site-packages (from visdom>=0.1.8.8->-r requirements.txt (line 4)) (0.58.0)\n",
      "Requirement already satisfied: tornado in c:\\users\\kevin\\.conda\\envs\\pix2pix\\lib\\site-packages (from visdom>=0.1.8.8->-r requirements.txt (line 4)) (6.2)\n",
      "Requirement already satisfied: scipy in c:\\users\\kevin\\.conda\\envs\\pix2pix\\lib\\site-packages (from visdom>=0.1.8.8->-r requirements.txt (line 4)) (1.10.1)\n",
      "Requirement already satisfied: PyYAML in c:\\users\\kevin\\.conda\\envs\\pix2pix\\lib\\site-packages (from wandb->-r requirements.txt (line 5)) (6.0)\n",
      "Requirement already satisfied: setproctitle in c:\\users\\kevin\\.conda\\envs\\pix2pix\\lib\\site-packages (from wandb->-r requirements.txt (line 5)) (1.3.2)\n",
      "Requirement already satisfied: pathtools in c:\\users\\kevin\\.conda\\envs\\pix2pix\\lib\\site-packages (from wandb->-r requirements.txt (line 5)) (0.1.2)\n",
      "Requirement already satisfied: appdirs>=1.4.3 in c:\\users\\kevin\\.conda\\envs\\pix2pix\\lib\\site-packages (from wandb->-r requirements.txt (line 5)) (1.4.4)\n",
      "Requirement already satisfied: GitPython!=3.1.29,>=1.0.0 in c:\\users\\kevin\\appdata\\roaming\\python\\python39\\site-packages (from wandb->-r requirements.txt (line 5)) (3.1.30)\n",
      "Requirement already satisfied: setuptools in c:\\users\\kevin\\.conda\\envs\\pix2pix\\lib\\site-packages (from wandb->-r requirements.txt (line 5)) (65.6.3)\n",
      "Requirement already satisfied: psutil>=5.0.0 in c:\\users\\kevin\\.conda\\envs\\pix2pix\\lib\\site-packages (from wandb->-r requirements.txt (line 5)) (5.9.0)\n",
      "Requirement already satisfied: sentry-sdk>=1.0.0 in c:\\users\\kevin\\.conda\\envs\\pix2pix\\lib\\site-packages (from wandb->-r requirements.txt (line 5)) (1.16.0)\n",
      "Requirement already satisfied: Click!=8.0.0,>=7.0 in c:\\users\\kevin\\.conda\\envs\\pix2pix\\lib\\site-packages (from wandb->-r requirements.txt (line 5)) (8.1.3)\n",
      "Requirement already satisfied: docker-pycreds>=0.4.0 in c:\\users\\kevin\\.conda\\envs\\pix2pix\\lib\\site-packages (from wandb->-r requirements.txt (line 5)) (0.4.0)\n",
      "Requirement already satisfied: protobuf!=4.21.0,<5,>=3.19.0 in c:\\users\\kevin\\appdata\\roaming\\python\\python39\\site-packages (from wandb->-r requirements.txt (line 5)) (3.19.6)\n",
      "Requirement already satisfied: colorama in c:\\users\\kevin\\.conda\\envs\\pix2pix\\lib\\site-packages (from Click!=8.0.0,>=7.0->wandb->-r requirements.txt (line 5)) (0.4.6)\n",
      "Requirement already satisfied: gitdb<5,>=4.0.1 in c:\\users\\kevin\\appdata\\roaming\\python\\python39\\site-packages (from GitPython!=3.1.29,>=1.0.0->wandb->-r requirements.txt (line 5)) (4.0.10)\n",
      "Requirement already satisfied: urllib3<1.27,>=1.21.1 in c:\\users\\kevin\\.conda\\envs\\pix2pix\\lib\\site-packages (from requests->torchvision>=0.5.0->-r requirements.txt (line 2)) (1.26.14)\n",
      "Requirement already satisfied: certifi>=2017.4.17 in c:\\users\\kevin\\.conda\\envs\\pix2pix\\lib\\site-packages (from requests->torchvision>=0.5.0->-r requirements.txt (line 2)) (2022.12.7)\n",
      "Requirement already satisfied: charset-normalizer<3,>=2 in c:\\users\\kevin\\.conda\\envs\\pix2pix\\lib\\site-packages (from requests->torchvision>=0.5.0->-r requirements.txt (line 2)) (2.0.4)\n",
      "Requirement already satisfied: idna<4,>=2.5 in c:\\users\\kevin\\.conda\\envs\\pix2pix\\lib\\site-packages (from requests->torchvision>=0.5.0->-r requirements.txt (line 2)) (3.4)\n",
      "Requirement already satisfied: jsonpointer>=1.9 in c:\\users\\kevin\\.conda\\envs\\pix2pix\\lib\\site-packages (from jsonpatch->visdom>=0.1.8.8->-r requirements.txt (line 4)) (2.3)\n",
      "Requirement already satisfied: smmap<6,>=3.0.1 in c:\\users\\kevin\\appdata\\roaming\\python\\python39\\site-packages (from gitdb<5,>=4.0.1->GitPython!=3.1.29,>=1.0.0->wandb->-r requirements.txt (line 5)) (5.0.0)\n"
     ]
    }
   ],
   "source": [
    "!pip install -r requirements.txt"
   ]
  },
  {
   "cell_type": "markdown",
   "metadata": {
    "colab_type": "text",
    "id": "8daqlgVhw29P"
   },
   "source": [
    "# Datasets\n",
    "\n",
    "Download one of the official datasets with:\n",
    "\n",
    "-   `bash ./datasets/download_pix2pix_dataset.sh [cityscapes, night2day, edges2handbags, edges2shoes, facades, maps]`\n",
    "\n",
    "Or use your own dataset by creating the appropriate folders and adding in the images. Follow the instructions [here](https://github.com/junyanz/pytorch-CycleGAN-and-pix2pix/blob/master/docs/datasets.md#pix2pix-datasets)."
   ]
  },
  {
   "cell_type": "markdown",
   "source": [
    "### Dataset creation for HE (B):"
   ],
   "metadata": {
    "collapsed": false
   }
  },
  {
   "cell_type": "code",
   "execution_count": 1,
   "outputs": [],
   "source": [
    "import os\n",
    "import random\n",
    "import shutil\n",
    "\n",
    "# Set the seed for random shuffle\n",
    "random.seed(42) # repeatability\n",
    "\n",
    "\n",
    "path = r'\\\\shelter\\Kyu\\unstain2stain\\unstain2stain_tile\\pix2pix\\train\\HE\\all'\n",
    "train_path = r'C:\\Users\\Kevin\\PycharmProjects\\pix2pix\\pytorch-CycleGAN-and-pix2pix\\datasets\\B\\train'\n",
    "valid_path = r'C:\\Users\\Kevin\\PycharmProjects\\pix2pix\\pytorch-CycleGAN-and-pix2pix\\datasets\\B\\val'\n",
    "test_path = r'C:\\Users\\Kevin\\PycharmProjects\\pix2pix\\pytorch-CycleGAN-and-pix2pix\\datasets\\B\\test'\n",
    "\n",
    "if not os.path.exists(train_path):\n",
    "    os.makedirs(train_path)\n",
    "\n",
    "if not os.path.exists(valid_path):\n",
    "    os.makedirs(valid_path)\n",
    "\n",
    "if not os.path.exists(test_path):\n",
    "    os.makedirs(test_path)\n",
    "\n",
    "# Set the percentage split for train, validation, and test\n",
    "train_pct = 0.8\n",
    "valid_pct = 0.1\n",
    "test_pct = 0.1\n",
    "\n",
    "image_files = [f for f in os.listdir(path) if f.endswith('.png')]\n",
    "\n",
    "random.shuffle(image_files)\n",
    "\n",
    "num_files = len(image_files)\n",
    "num_train = int(num_files * train_pct)\n",
    "num_valid = int(num_files * valid_pct)\n",
    "num_test = int(num_files * test_pct)\n",
    "\n",
    "# Copy the image files into the train folder\n",
    "for i in range(num_train):\n",
    "    src_path = os.path.join(path, image_files[i])\n",
    "    dst_path = os.path.join(train_path, image_files[i])\n",
    "    shutil.copyfile(src_path, dst_path)\n",
    "\n",
    "# Copy the image files into the validation folder\n",
    "for i in range(num_train, num_train+num_valid):\n",
    "    src_path = os.path.join(path, image_files[i])\n",
    "    dst_path = os.path.join(valid_path, image_files[i])\n",
    "    shutil.copyfile(src_path, dst_path)\n",
    "\n",
    "# Copy the image files into the test folder\n",
    "for i in range(num_train+num_valid, num_files):\n",
    "    src_path = os.path.join(path, image_files[i])\n",
    "    dst_path = os.path.join(test_path, image_files[i])\n",
    "    shutil.copyfile(src_path, dst_path)\n"
   ],
   "metadata": {
    "collapsed": false
   }
  },
  {
   "cell_type": "markdown",
   "source": [
    "### Dataset creation for Unstained (A):"
   ],
   "metadata": {
    "collapsed": false
   }
  },
  {
   "cell_type": "code",
   "execution_count": 1,
   "outputs": [],
   "source": [
    "import os\n",
    "import random\n",
    "import shutil\n",
    "\n",
    "# Set the seed for random shuffle\n",
    "random.seed(42) # repeatability\n",
    "\n",
    "path = r'\\\\shelter\\Kyu\\unstain2stain\\unstain2stain_tile\\pix2pix\\train\\Unstained\\all'\n",
    "train_path = r'C:\\Users\\Kevin\\PycharmProjects\\pix2pix\\pytorch-CycleGAN-and-pix2pix\\datasets\\A\\train'\n",
    "valid_path = r'C:\\Users\\Kevin\\PycharmProjects\\pix2pix\\pytorch-CycleGAN-and-pix2pix\\datasets\\A\\val'\n",
    "test_path = r'C:\\Users\\Kevin\\PycharmProjects\\pix2pix\\pytorch-CycleGAN-and-pix2pix\\datasets\\A\\test'\n",
    "\n",
    "if not os.path.exists(train_path):\n",
    "    os.makedirs(train_path)\n",
    "\n",
    "if not os.path.exists(valid_path):\n",
    "    os.makedirs(valid_path)\n",
    "\n",
    "if not os.path.exists(test_path):\n",
    "    os.makedirs(test_path)\n",
    "\n",
    "# Set the percentage split for train, validation, and test\n",
    "train_pct = 0.8\n",
    "valid_pct = 0.1\n",
    "test_pct = 0.1\n",
    "\n",
    "image_files = [f for f in os.listdir(path) if f.endswith('.png')]\n",
    "\n",
    "random.shuffle(image_files)\n",
    "\n",
    "num_files = len(image_files)\n",
    "num_train = int(num_files * train_pct)\n",
    "num_valid = int(num_files * valid_pct)\n",
    "num_test = int(num_files * test_pct)\n",
    "\n",
    "# Copy the image files into the train folder\n",
    "for i in range(num_train):\n",
    "    src_path = os.path.join(path, image_files[i])\n",
    "    dst_path = os.path.join(train_path, image_files[i])\n",
    "    shutil.copyfile(src_path, dst_path)\n",
    "\n",
    "# Copy the image files into the validation folder\n",
    "for i in range(num_train, num_train+num_valid):\n",
    "    src_path = os.path.join(path, image_files[i])\n",
    "    dst_path = os.path.join(valid_path, image_files[i])\n",
    "    shutil.copyfile(src_path, dst_path)\n",
    "\n",
    "# Copy the image files into the test folder\n",
    "for i in range(num_train+num_valid, num_files):\n",
    "    src_path = os.path.join(path, image_files[i])\n",
    "    dst_path = os.path.join(test_path, image_files[i])\n",
    "    shutil.copyfile(src_path, dst_path)\n"
   ],
   "metadata": {
    "collapsed": false
   }
  },
  {
   "cell_type": "code",
   "execution_count": 2,
   "outputs": [],
   "source": [],
   "metadata": {
    "collapsed": false
   }
  },
  {
   "cell_type": "code",
   "execution_count": 3,
   "metadata": {
    "colab": {},
    "colab_type": "code",
    "id": "vrdOettJxaCc"
   },
   "outputs": [
    {
     "name": "stdout",
     "output_type": "stream",
     "text": [
      "Split: train\n",
      "Only in C:\\Users\\Kevin\\PycharmProjects\\pix2pix\\pytorch-CycleGAN-and-pix2pix\\datasets\\A: 0\n",
      "Only in C:\\Users\\Kevin\\PycharmProjects\\pix2pix\\pytorch-CycleGAN-and-pix2pix\\datasets\\B: 0\n",
      "-----------\n",
      "Split: val\n",
      "Only in C:\\Users\\Kevin\\PycharmProjects\\pix2pix\\pytorch-CycleGAN-and-pix2pix\\datasets\\A: 0\n",
      "Only in C:\\Users\\Kevin\\PycharmProjects\\pix2pix\\pytorch-CycleGAN-and-pix2pix\\datasets\\B: 0\n",
      "-----------\n",
      "Split: test\n",
      "Only in C:\\Users\\Kevin\\PycharmProjects\\pix2pix\\pytorch-CycleGAN-and-pix2pix\\datasets\\A: 0\n",
      "Only in C:\\Users\\Kevin\\PycharmProjects\\pix2pix\\pytorch-CycleGAN-and-pix2pix\\datasets\\B: 0\n",
      "-----------\n"
     ]
    }
   ],
   "source": [
    "!bash ./datasets/download_pix2pix_dataset.sh facades"
   ]
  },
  {
   "cell_type": "markdown",
   "metadata": {
    "colab_type": "text",
    "id": "gdUz4116xhpm",
    "pycharm": {
     "is_executing": true
    }
   },
   "source": [
    "# Pretrained models\n",
    "\n",
    "Download one of the official pretrained models with:\n",
    "\n",
    "-   `bash ./scripts/download_pix2pix_model.sh [edges2shoes, sat2map, map2sat, facades_label2photo, and day2night]`\n",
    "\n",
    "Or add your own pretrained model to `./checkpoints/{NAME}_pretrained/latest_net_G.pt`"
   ],
   "outputs": [],
   "execution_count": null
  },
  {
   "cell_type": "code",
   "execution_count": null,
   "metadata": {
    "colab": {},
    "colab_type": "code",
    "id": "GC2DEP4M0OsS"
   },
   "outputs": [],
   "source": [
    "!bash ./scripts/download_pix2pix_model.sh facades_label2photo"
   ]
  },
  {
   "cell_type": "markdown",
   "metadata": {
    "colab_type": "text",
    "id": "yFw1kDQBx3LN"
   },
   "source": [
    "# Training\n",
    "\n",
    "-   `python train.py --dataroot ./datasets/facades --name facades_pix2pix --model pix2pix --direction BtoA`\n",
    "\n",
    "Change the `--dataroot` and `--name` to your own dataset's path and model's name. Use `--gpu_ids 0,1,..` to train on multiple GPUs and `--batch_size` to change the batch size. Add `--direction BtoA` if you want to train a model to transfrom from class B to A."
   ]
  },
  {
   "cell_type": "code",
   "execution_count": null,
   "metadata": {
    "colab": {},
    "colab_type": "code",
    "id": "0sp7TCT2x9dB"
   },
   "outputs": [],
   "source": [
    "!python train.py --dataroot ./datasets/facades --name facades_pix2pix --model pix2pix --direction BtoA --display_id -1"
   ]
  },
  {
   "cell_type": "markdown",
   "metadata": {
    "colab_type": "text",
    "id": "9UkcaFZiyASl"
   },
   "source": [
    "# Testing\n",
    "\n",
    "-   `python test.py --dataroot ./datasets/facades --direction BtoA --model pix2pix --name facades_pix2pix`\n",
    "\n",
    "Change the `--dataroot`, `--name`, and `--direction` to be consistent with your trained model's configuration and how you want to transform images.\n",
    "\n",
    "> from https://github.com/junyanz/pytorch-CycleGAN-and-pix2pix:\n",
    "> Note that we specified --direction BtoA as Facades dataset's A to B direction is photos to labels.\n",
    "\n",
    "> If you would like to apply a pre-trained model to a collection of input images (rather than image pairs), please use --model test option. See ./scripts/test_single.sh for how to apply a model to Facade label maps (stored in the directory facades/testB).\n",
    "\n",
    "> See a list of currently available models at ./scripts/download_pix2pix_model.sh"
   ]
  },
  {
   "cell_type": "code",
   "execution_count": 5,
   "metadata": {
    "colab": {},
    "colab_type": "code",
    "id": "mey7o6j-0368"
   },
   "outputs": [
    {
     "ename": "SyntaxError",
     "evalue": "invalid syntax (2564385124.py, line 3)",
     "output_type": "error",
     "traceback": [
      "\u001B[1;36m  Cell \u001B[1;32mIn[5], line 3\u001B[1;36m\u001B[0m\n\u001B[1;33m    -   `python train.py --dataroot ./datasets/facades --name facades_pix2pix --model pix2pix --direction BtoA`\u001B[0m\n\u001B[1;37m        ^\u001B[0m\n\u001B[1;31mSyntaxError\u001B[0m\u001B[1;31m:\u001B[0m invalid syntax\n"
     ]
    }
   ],
   "source": [
    "!ls checkpoints/"
   ]
  },
  {
   "cell_type": "code",
   "execution_count": null,
   "metadata": {
    "colab": {},
    "colab_type": "code",
    "id": "uCsKkEq0yGh0"
   },
   "outputs": [],
   "source": [
    "!python test.py --dataroot ./datasets/facades --direction BtoA --model pix2pix --name facades_label2photo_pretrained --use_wandb"
   ]
  },
  {
   "cell_type": "markdown",
   "metadata": {
    "colab_type": "text",
    "id": "OzSKIPUByfiN"
   },
   "source": [
    "# Visualize"
   ]
  },
  {
   "cell_type": "code",
   "execution_count": null,
   "metadata": {
    "colab": {},
    "colab_type": "code",
    "id": "9Mgg8raPyizq"
   },
   "outputs": [],
   "source": [
    "import matplotlib.pyplot as plt\n",
    "\n",
    "img = plt.imread('./results/facades_label2photo_pretrained/test_latest/images/100_fake_B.png')\n",
    "plt.imshow(img)"
   ]
  },
  {
   "cell_type": "code",
   "execution_count": null,
   "metadata": {
    "colab": {},
    "colab_type": "code",
    "id": "0G3oVH9DyqLQ"
   },
   "outputs": [],
   "source": [
    "img = plt.imread('./results/facades_label2photo_pretrained/test_latest/images/100_real_A.png')\n",
    "plt.imshow(img)"
   ]
  },
  {
   "cell_type": "code",
   "execution_count": null,
   "metadata": {
    "colab": {},
    "colab_type": "code",
    "id": "ErK5OC1j1LH4"
   },
   "outputs": [],
   "source": [
    "img = plt.imread('./results/facades_label2photo_pretrained/test_latest/images/100_real_B.png')\n",
    "plt.imshow(img)"
   ]
  }
 ],
 "metadata": {
  "accelerator": "GPU",
  "colab": {
   "collapsed_sections": [],
   "include_colab_link": true,
   "name": "pix2pix",
   "provenance": []
  },
  "environment": {
   "name": "tf2-gpu.2-3.m74",
   "type": "gcloud",
   "uri": "gcr.io/deeplearning-platform-release/tf2-gpu.2-3:m74"
  },
  "kernelspec": {
   "display_name": "Python 3",
   "language": "python",
   "name": "python3"
  },
  "language_info": {
   "codemirror_mode": {
    "name": "ipython",
    "version": 3
   },
   "file_extension": ".py",
   "mimetype": "text/x-python",
   "name": "python",
   "nbconvert_exporter": "python",
   "pygments_lexer": "ipython3",
   "version": "3.7.10"
  }
 },
 "nbformat": 4,
 "nbformat_minor": 4
}
