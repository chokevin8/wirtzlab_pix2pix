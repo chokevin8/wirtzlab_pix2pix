{
 "cells": [
  {
   "cell_type": "markdown",
   "metadata": {
    "colab_type": "text",
    "id": "view-in-github"
   },
   "source": [
    "<a href=\"https://colab.research.google.com/github/bkkaggle/pytorch-CycleGAN-and-pix2pix/blob/master/pix2pix.ipynb\" target=\"_parent\"><img src=\"https://colab.research.google.com/assets/colab-badge.svg\" alt=\"Open In Colab\"/></a>"
   ]
  },
  {
   "cell_type": "markdown",
   "metadata": {
    "colab_type": "text",
    "id": "7wNjDKdQy35h"
   },
   "source": [
    "# Install"
   ]
  },
  {
   "cell_type": "code",
   "execution_count": null,
   "metadata": {
    "colab": {},
    "colab_type": "code",
    "id": "TRm-USlsHgEV"
   },
   "outputs": [],
   "source": [
    "# !git clone https://github.com/junyanz/pytorch-CycleGAN-and-pix2pix"
   ]
  },
  {
   "cell_type": "code",
   "execution_count": 4,
   "metadata": {
    "colab": {},
    "colab_type": "code",
    "id": "Pt3igws3eiVp"
   },
   "outputs": [],
   "source": [
    "import os\n",
    "os.chdir(r'C:\\Users\\Kevin\\PycharmProjects\\pix2pix\\pytorch-CycleGAN-and-pix2pix/')"
   ]
  },
  {
   "cell_type": "code",
   "execution_count": 3,
   "metadata": {
    "colab": {},
    "colab_type": "code",
    "id": "z1EySlOXwwoa"
   },
   "outputs": [
    {
     "name": "stdout",
     "output_type": "stream",
     "text": [
      "Requirement already satisfied: torch>=1.4.0 in c:\\users\\kevin\\.conda\\envs\\pix2pix\\lib\\site-packages (from -r requirements.txt (line 1)) (1.13.1)\n",
      "Requirement already satisfied: torchvision>=0.5.0 in c:\\users\\kevin\\.conda\\envs\\pix2pix\\lib\\site-packages (from -r requirements.txt (line 2)) (0.14.1)\n",
      "Requirement already satisfied: dominate>=2.4.0 in c:\\users\\kevin\\.conda\\envs\\pix2pix\\lib\\site-packages (from -r requirements.txt (line 3)) (2.7.0)\n",
      "Requirement already satisfied: visdom>=0.1.8.8 in c:\\users\\kevin\\.conda\\envs\\pix2pix\\lib\\site-packages (from -r requirements.txt (line 4)) (0.2.4)\n",
      "Requirement already satisfied: wandb in c:\\users\\kevin\\.conda\\envs\\pix2pix\\lib\\site-packages (from -r requirements.txt (line 5)) (0.13.11)\n",
      "Requirement already satisfied: typing-extensions in c:\\users\\kevin\\.conda\\envs\\pix2pix\\lib\\site-packages (from torch>=1.4.0->-r requirements.txt (line 1)) (4.4.0)\n",
      "Requirement already satisfied: pillow!=8.3.*,>=5.3.0 in c:\\users\\kevin\\.conda\\envs\\pix2pix\\lib\\site-packages (from torchvision>=0.5.0->-r requirements.txt (line 2)) (9.4.0)\n",
      "Requirement already satisfied: numpy in c:\\users\\kevin\\.conda\\envs\\pix2pix\\lib\\site-packages (from torchvision>=0.5.0->-r requirements.txt (line 2)) (1.24.2)\n",
      "Requirement already satisfied: requests in c:\\users\\kevin\\.conda\\envs\\pix2pix\\lib\\site-packages (from torchvision>=0.5.0->-r requirements.txt (line 2)) (2.28.1)\n",
      "Requirement already satisfied: jsonpatch in c:\\users\\kevin\\.conda\\envs\\pix2pix\\lib\\site-packages (from visdom>=0.1.8.8->-r requirements.txt (line 4)) (1.32)\n",
      "Requirement already satisfied: networkx in c:\\users\\kevin\\.conda\\envs\\pix2pix\\lib\\site-packages (from visdom>=0.1.8.8->-r requirements.txt (line 4)) (3.0)\n",
      "Requirement already satisfied: six in c:\\users\\kevin\\.conda\\envs\\pix2pix\\lib\\site-packages (from visdom>=0.1.8.8->-r requirements.txt (line 4)) (1.16.0)\n",
      "Requirement already satisfied: websocket-client in c:\\users\\kevin\\.conda\\envs\\pix2pix\\lib\\site-packages (from visdom>=0.1.8.8->-r requirements.txt (line 4)) (0.58.0)\n",
      "Requirement already satisfied: tornado in c:\\users\\kevin\\.conda\\envs\\pix2pix\\lib\\site-packages (from visdom>=0.1.8.8->-r requirements.txt (line 4)) (6.2)\n",
      "Requirement already satisfied: scipy in c:\\users\\kevin\\.conda\\envs\\pix2pix\\lib\\site-packages (from visdom>=0.1.8.8->-r requirements.txt (line 4)) (1.10.1)\n",
      "Requirement already satisfied: PyYAML in c:\\users\\kevin\\.conda\\envs\\pix2pix\\lib\\site-packages (from wandb->-r requirements.txt (line 5)) (6.0)\n",
      "Requirement already satisfied: setproctitle in c:\\users\\kevin\\.conda\\envs\\pix2pix\\lib\\site-packages (from wandb->-r requirements.txt (line 5)) (1.3.2)\n",
      "Requirement already satisfied: pathtools in c:\\users\\kevin\\.conda\\envs\\pix2pix\\lib\\site-packages (from wandb->-r requirements.txt (line 5)) (0.1.2)\n",
      "Requirement already satisfied: appdirs>=1.4.3 in c:\\users\\kevin\\.conda\\envs\\pix2pix\\lib\\site-packages (from wandb->-r requirements.txt (line 5)) (1.4.4)\n",
      "Requirement already satisfied: GitPython!=3.1.29,>=1.0.0 in c:\\users\\kevin\\appdata\\roaming\\python\\python39\\site-packages (from wandb->-r requirements.txt (line 5)) (3.1.30)\n",
      "Requirement already satisfied: setuptools in c:\\users\\kevin\\.conda\\envs\\pix2pix\\lib\\site-packages (from wandb->-r requirements.txt (line 5)) (65.6.3)\n",
      "Requirement already satisfied: psutil>=5.0.0 in c:\\users\\kevin\\.conda\\envs\\pix2pix\\lib\\site-packages (from wandb->-r requirements.txt (line 5)) (5.9.0)\n",
      "Requirement already satisfied: sentry-sdk>=1.0.0 in c:\\users\\kevin\\.conda\\envs\\pix2pix\\lib\\site-packages (from wandb->-r requirements.txt (line 5)) (1.16.0)\n",
      "Requirement already satisfied: Click!=8.0.0,>=7.0 in c:\\users\\kevin\\.conda\\envs\\pix2pix\\lib\\site-packages (from wandb->-r requirements.txt (line 5)) (8.1.3)\n",
      "Requirement already satisfied: docker-pycreds>=0.4.0 in c:\\users\\kevin\\.conda\\envs\\pix2pix\\lib\\site-packages (from wandb->-r requirements.txt (line 5)) (0.4.0)\n",
      "Requirement already satisfied: protobuf!=4.21.0,<5,>=3.19.0 in c:\\users\\kevin\\appdata\\roaming\\python\\python39\\site-packages (from wandb->-r requirements.txt (line 5)) (3.19.6)\n",
      "Requirement already satisfied: colorama in c:\\users\\kevin\\.conda\\envs\\pix2pix\\lib\\site-packages (from Click!=8.0.0,>=7.0->wandb->-r requirements.txt (line 5)) (0.4.6)\n",
      "Requirement already satisfied: gitdb<5,>=4.0.1 in c:\\users\\kevin\\appdata\\roaming\\python\\python39\\site-packages (from GitPython!=3.1.29,>=1.0.0->wandb->-r requirements.txt (line 5)) (4.0.10)\n",
      "Requirement already satisfied: urllib3<1.27,>=1.21.1 in c:\\users\\kevin\\.conda\\envs\\pix2pix\\lib\\site-packages (from requests->torchvision>=0.5.0->-r requirements.txt (line 2)) (1.26.14)\n",
      "Requirement already satisfied: certifi>=2017.4.17 in c:\\users\\kevin\\.conda\\envs\\pix2pix\\lib\\site-packages (from requests->torchvision>=0.5.0->-r requirements.txt (line 2)) (2022.12.7)\n",
      "Requirement already satisfied: charset-normalizer<3,>=2 in c:\\users\\kevin\\.conda\\envs\\pix2pix\\lib\\site-packages (from requests->torchvision>=0.5.0->-r requirements.txt (line 2)) (2.0.4)\n",
      "Requirement already satisfied: idna<4,>=2.5 in c:\\users\\kevin\\.conda\\envs\\pix2pix\\lib\\site-packages (from requests->torchvision>=0.5.0->-r requirements.txt (line 2)) (3.4)\n",
      "Requirement already satisfied: jsonpointer>=1.9 in c:\\users\\kevin\\.conda\\envs\\pix2pix\\lib\\site-packages (from jsonpatch->visdom>=0.1.8.8->-r requirements.txt (line 4)) (2.3)\n",
      "Requirement already satisfied: smmap<6,>=3.0.1 in c:\\users\\kevin\\appdata\\roaming\\python\\python39\\site-packages (from gitdb<5,>=4.0.1->GitPython!=3.1.29,>=1.0.0->wandb->-r requirements.txt (line 5)) (5.0.0)\n"
     ]
    }
   ],
   "source": [
    "!pip install -r requirements.txt"
   ]
  },
  {
   "cell_type": "markdown",
   "metadata": {
    "colab_type": "text",
    "id": "8daqlgVhw29P"
   },
   "source": [
    "# Datasets\n",
    "\n",
    "Download one of the official datasets with:\n",
    "\n",
    "-   `bash ./datasets/download_pix2pix_dataset.sh [cityscapes, night2day, edges2handbags, edges2shoes, facades, maps]`\n",
    "\n",
    "Or use your own dataset by creating the appropriate folders and adding in the images. Follow the instructions [here](https://github.com/junyanz/pytorch-CycleGAN-and-pix2pix/blob/master/docs/datasets.md#pix2pix-datasets)."
   ]
  },
  {
   "cell_type": "markdown",
   "source": [
    "### Dataset creation for HE (B):"
   ],
   "metadata": {
    "collapsed": false
   }
  },
  {
   "cell_type": "code",
   "execution_count": 1,
   "outputs": [],
   "source": [
    "import os\n",
    "import random\n",
    "import shutil\n",
    "\n",
    "# Set the seed for random shuffle\n",
    "random.seed(42) # repeatability\n",
    "\n",
    "\n",
    "path = r'\\\\shelter\\Kyu\\unstain2stain\\unstain2stain_tile\\pix2pix\\train\\HE\\all'\n",
    "train_path = r'C:\\Users\\Kevin\\PycharmProjects\\pix2pix\\pytorch-CycleGAN-and-pix2pix\\datasets\\B\\train'\n",
    "valid_path = r'C:\\Users\\Kevin\\PycharmProjects\\pix2pix\\pytorch-CycleGAN-and-pix2pix\\datasets\\B\\val'\n",
    "test_path = r'C:\\Users\\Kevin\\PycharmProjects\\pix2pix\\pytorch-CycleGAN-and-pix2pix\\datasets\\B\\test'\n",
    "\n",
    "if not os.path.exists(train_path):\n",
    "    os.makedirs(train_path)\n",
    "\n",
    "if not os.path.exists(valid_path):\n",
    "    os.makedirs(valid_path)\n",
    "\n",
    "if not os.path.exists(test_path):\n",
    "    os.makedirs(test_path)\n",
    "\n",
    "# Set the percentage split for train, validation, and test\n",
    "train_pct = 0.8\n",
    "valid_pct = 0.1\n",
    "test_pct = 0.1\n",
    "\n",
    "image_files = [f for f in os.listdir(path) if f.endswith('.png')]\n",
    "\n",
    "random.shuffle(image_files)\n",
    "\n",
    "num_files = len(image_files)\n",
    "num_train = int(num_files * train_pct)\n",
    "num_valid = int(num_files * valid_pct)\n",
    "num_test = int(num_files * test_pct)\n",
    "\n",
    "# Copy the image files into the train folder\n",
    "for i in range(num_train):\n",
    "    src_path = os.path.join(path, image_files[i])\n",
    "    dst_path = os.path.join(train_path, image_files[i])\n",
    "    shutil.copyfile(src_path, dst_path)\n",
    "\n",
    "# Copy the image files into the validation folder\n",
    "for i in range(num_train, num_train+num_valid):\n",
    "    src_path = os.path.join(path, image_files[i])\n",
    "    dst_path = os.path.join(valid_path, image_files[i])\n",
    "    shutil.copyfile(src_path, dst_path)\n",
    "\n",
    "# Copy the image files into the test folder\n",
    "for i in range(num_train+num_valid, num_files):\n",
    "    src_path = os.path.join(path, image_files[i])\n",
    "    dst_path = os.path.join(test_path, image_files[i])\n",
    "    shutil.copyfile(src_path, dst_path)\n"
   ],
   "metadata": {
    "collapsed": false
   }
  },
  {
   "cell_type": "markdown",
   "source": [
    "### Dataset creation for Unstained (A):"
   ],
   "metadata": {
    "collapsed": false
   }
  },
  {
   "cell_type": "code",
   "execution_count": 5,
   "outputs": [],
   "source": [
    "import os\n",
    "import shutil\n",
    "\n",
    "# Set up the paths for the original directories and the new images directory\n",
    "parent_dir = r'C:\\Users\\Kevin\\PycharmProjects\\pix2pix\\pytorch-CycleGAN-and-pix2pix\\datasets\\B'\n",
    "new_images_dir = r'\\\\shelter\\Kyu\\unstain2stain\\unstain2stain_tile\\pix2pix\\train\\Unstained\\all'\n",
    "new_save_dir = r'C:\\Users\\Kevin\\PycharmProjects\\pix2pix\\pytorch-CycleGAN-and-pix2pix\\datasets\\A'\n",
    "\n",
    "# Loop through each original directory (train, val, test)\n",
    "for split_dir in os.listdir(parent_dir):\n",
    "    split_path = os.path.join(parent_dir, split_dir)\n",
    "\n",
    "    # Get the set of image file names for this split\n",
    "    split_images = set(os.listdir(split_path))\n",
    "\n",
    "    # Loop through each image in the new images directory\n",
    "    for image_file in os.listdir(new_images_dir):\n",
    "\n",
    "        # Check if the image is in the current split\n",
    "        if image_file in split_images:\n",
    "            image_path = os.path.join(new_images_dir, image_file)\n",
    "            new_split_path = os.path.join(new_save_dir, split_dir, image_file)\n",
    "            shutil.copyfile(image_path, new_split_path)\n"
   ],
   "metadata": {
    "collapsed": false
   }
  },
  {
   "cell_type": "code",
   "execution_count": 1,
   "outputs": [
    {
     "name": "stdout",
     "output_type": "stream",
     "text": [
      "Split: train\n",
      "Only in C:\\Users\\Kevin\\PycharmProjects\\pix2pix\\pytorch-CycleGAN-and-pix2pix\\datasets\\A: 0\n",
      "Only in C:\\Users\\Kevin\\PycharmProjects\\pix2pix\\pytorch-CycleGAN-and-pix2pix\\datasets\\B: 0\n",
      "-----------\n",
      "Split: val\n",
      "Only in C:\\Users\\Kevin\\PycharmProjects\\pix2pix\\pytorch-CycleGAN-and-pix2pix\\datasets\\A: 0\n",
      "Only in C:\\Users\\Kevin\\PycharmProjects\\pix2pix\\pytorch-CycleGAN-and-pix2pix\\datasets\\B: 0\n",
      "-----------\n",
      "Split: test\n",
      "Only in C:\\Users\\Kevin\\PycharmProjects\\pix2pix\\pytorch-CycleGAN-and-pix2pix\\datasets\\A: 0\n",
      "Only in C:\\Users\\Kevin\\PycharmProjects\\pix2pix\\pytorch-CycleGAN-and-pix2pix\\datasets\\B: 0\n",
      "-----------\n"
     ]
    }
   ],
   "source": [
    "import os\n",
    "\n",
    "# Set up the paths for directories A and B\n",
    "dir_a = r'C:\\Users\\Kevin\\PycharmProjects\\pix2pix\\pytorch-CycleGAN-and-pix2pix\\datasets\\A'\n",
    "dir_b = r'C:\\Users\\Kevin\\PycharmProjects\\pix2pix\\pytorch-CycleGAN-and-pix2pix\\datasets\\B'\n",
    "\n",
    "# Loop through each split (train, val, test)\n",
    "for split in ['train', 'val', 'test']:\n",
    "    split_a_path = os.path.join(dir_a, split)\n",
    "    split_b_path = os.path.join(dir_b, split)\n",
    "\n",
    "    # Get the set of image file names for each split in directory A\n",
    "    split_a_images = set(os.listdir(split_a_path))\n",
    "\n",
    "    # Get the set of image file names for each split in directory B\n",
    "    split_b_images = set(os.listdir(split_b_path))\n",
    "\n",
    "    # Find the set of images that are in directory A but not in directory B\n",
    "    only_in_a = split_a_images - split_b_images\n",
    "\n",
    "    # Find the set of images that are in directory B but not in directory A\n",
    "    only_in_b = split_b_images - split_a_images\n",
    "\n",
    "    # Print the results\n",
    "    print(f\"Split: {split}\")\n",
    "    print(f\"Only in {dir_a}: {len(only_in_a)}\")\n",
    "    print(f\"Only in {dir_b}: {len(only_in_b)}\")\n",
    "    print(\"-----------\")\n"
   ],
   "metadata": {
    "collapsed": false
   }
  },
  {
   "cell_type": "code",
   "execution_count": 1,
   "metadata": {
    "colab": {},
    "colab_type": "code",
    "id": "vrdOettJxaCc"
   },
   "outputs": [
    {
     "name": "stdout",
     "output_type": "stream",
     "text": [
      "Split: train\n",
      "Only in C:\\Users\\Kevin\\PycharmProjects\\pix2pix\\pytorch-CycleGAN-and-pix2pix\\datasets\\A: 0\n",
      "Only in C:\\Users\\Kevin\\PycharmProjects\\pix2pix\\pytorch-CycleGAN-and-pix2pix\\datasets\\B: 0\n",
      "-----------\n",
      "Split: val\n",
      "Only in C:\\Users\\Kevin\\PycharmProjects\\pix2pix\\pytorch-CycleGAN-and-pix2pix\\datasets\\A: 0\n",
      "Only in C:\\Users\\Kevin\\PycharmProjects\\pix2pix\\pytorch-CycleGAN-and-pix2pix\\datasets\\B: 0\n",
      "-----------\n",
      "Split: test\n",
      "Only in C:\\Users\\Kevin\\PycharmProjects\\pix2pix\\pytorch-CycleGAN-and-pix2pix\\datasets\\A: 0\n",
      "Only in C:\\Users\\Kevin\\PycharmProjects\\pix2pix\\pytorch-CycleGAN-and-pix2pix\\datasets\\B: 0\n",
      "-----------\n"
     ]
    }
   ],
   "source": [
    "# !bash ./datasets/download_pix2pix_dataset.sh facades"
   ]
  },
  {
   "cell_type": "markdown",
   "source": [
    "## Run this to finish generating dataset:"
   ],
   "metadata": {
    "collapsed": false
   }
  },
  {
   "cell_type": "code",
   "execution_count": 3,
   "outputs": [
    {
     "name": "stdout",
     "output_type": "stream",
     "text": [
      "[fold_A] =  C:\\Users\\Kevin\\PycharmProjects\\pix2pix\\pytorch-CycleGAN-and-pix2pix\\datasets\\A\n",
      "[fold_B] =  C:\\Users\\Kevin\\PycharmProjects\\pix2pix\\pytorch-CycleGAN-and-pix2pix\\datasets\\B\n",
      "[fold_AB] =  C:\\Users\\Kevin\\PycharmProjects\\pix2pix\\pytorch-CycleGAN-and-pix2pix\\datasets\n",
      "[num_imgs] =  1000000\n",
      "[use_AB] =  False\n",
      "[no_multiprocessing] =  True\n",
      "split = test, use 357/357 images\n",
      "split = test, number of images = 357\n",
      "split = train, use 2856/2856 images\n",
      "split = train, number of images = 2856\n",
      "split = val, use 357/357 images\n",
      "split = val, number of images = 357\n"
     ]
    }
   ],
   "source": [
    "!python datasets/combine_A_and_B.py --fold_A C:\\Users\\Kevin\\PycharmProjects\\pix2pix\\pytorch-CycleGAN-and-pix2pix\\datasets\\A --fold_B C:\\Users\\Kevin\\PycharmProjects\\pix2pix\\pytorch-CycleGAN-and-pix2pix\\datasets\\B --fold_AB C:\\Users\\Kevin\\PycharmProjects\\pix2pix\\pytorch-CycleGAN-and-pix2pix\\datasets --no_multiprocessing"
   ],
   "metadata": {
    "collapsed": false
   }
  },
  {
   "cell_type": "markdown",
   "metadata": {
    "colab_type": "text",
    "id": "gdUz4116xhpm"
   },
   "source": [
    "# Pretrained models\n",
    "\n",
    "Download one of the official pretrained models with:\n",
    "\n",
    "-   `bash ./scripts/download_pix2pix_model.sh [edges2shoes, sat2map, map2sat, facades_label2photo, and day2night]`\n",
    "\n",
    "Or add your own pretrained model to `./checkpoints/{NAME}_pretrained/latest_net_G.pt`"
   ],
   "outputs": [],
   "execution_count": null
  },
  {
   "cell_type": "code",
   "execution_count": null,
   "metadata": {
    "colab": {},
    "colab_type": "code",
    "id": "GC2DEP4M0OsS"
   },
   "outputs": [],
   "source": [
    "# !bash ./scripts/download_pix2pix_model.sh facades_label2photo"
   ]
  },
  {
   "cell_type": "code",
   "execution_count": 4,
   "outputs": [
    {
     "data": {
      "text/plain": "True"
     },
     "execution_count": 4,
     "metadata": {},
     "output_type": "execute_result"
    }
   ],
   "source": [
    "import torch\n",
    "torch.cuda.is_available()"
   ],
   "metadata": {
    "collapsed": false
   }
  },
  {
   "cell_type": "markdown",
   "metadata": {
    "colab_type": "text",
    "id": "yFw1kDQBx3LN"
   },
   "source": [
    "# Training\n",
    "\n",
    "-   `python train.py --dataroot ./datasets/facades --name facades_pix2pix --model pix2pix --direction BtoA`\n",
    "\n",
    "Change the `--dataroot` and `--name` to your own dataset's path and model's name. Use `--gpu_ids 0,1,..` to train on multiple GPUs and `--batch_size` to change the batch size. Add `--direction BtoA` if you want to train a model to transform from class B to A."
   ]
  },
  {
   "cell_type": "code",
   "execution_count": 1,
   "metadata": {
    "colab": {},
    "colab_type": "code",
    "id": "0sp7TCT2x9dB"
   },
   "outputs": [
    {
     "name": "stderr",
     "output_type": "stream",
     "text": [
      "IOPub data rate exceeded.\n",
      "The notebook server will temporarily stop sending output\n",
      "to the client in order to avoid crashing it.\n",
      "To change this limit, set the config variable\n",
      "`--NotebookApp.iopub_data_rate_limit`.\n",
      "\n",
      "Current values:\n",
      "NotebookApp.iopub_data_rate_limit=1000000.0 (bytes/sec)\n",
      "NotebookApp.rate_limit_window=3.0 (secs)\n",
      "\n",
      "C:\\Users\\Kevin\\.conda\\envs\\wsi_analysis1\\lib\\site-packages\\torch\\optim\\lr_scheduler.py:138: UserWarning: Detected call of `lr_scheduler.step()` before `optimizer.step()`. In PyTorch 1.1.0 and later, you should call them in the opposite order: `optimizer.step()` before `lr_scheduler.step()`.  Failure to do this will result in PyTorch skipping the first value of the learning rate schedule. See more details at https://pytorch.org/docs/stable/optim.html#how-to-adjust-learning-rate\n",
      "  warnings.warn(\"Detected call of `lr_scheduler.step()` before `optimizer.step()`. \"\n"
     ]
    }
   ],
   "source": [
    "!python train.py --dataroot C:\\Users\\Kevin\\PycharmProjects\\pix2pix\\pytorch-CycleGAN-and-pix2pix\\datasets --name unstain2stain_pix2pix --model pix2pix --direction AtoB --display_id -1 --display_freq 400 --display_ncols 4 --update_html_freq 1000 --print_freq 100 --checkpoints_dir C:\\Users\\Kevin\\PycharmProjects\\pix2pix\\pytorch-CycleGAN-and-pix2pix\\checkpoints --save_epoch_freq 5 --n_epochs 1000"
   ]
  },
  {
   "cell_type": "markdown",
   "metadata": {
    "colab_type": "text",
    "id": "9UkcaFZiyASl"
   },
   "source": [
    "# Testing\n",
    "\n",
    "-   `python test.py --dataroot ./datasets/facades --direction BtoA --model pix2pix --name facades_pix2pix`\n",
    "\n",
    "Change the `--dataroot`, `--name`, and `--direction` to be consistent with your trained model's configuration and how you want to transform images.\n",
    "\n",
    "> from https://github.com/junyanz/pytorch-CycleGAN-and-pix2pix:\n",
    "> Note that we specified --direction BtoA as Facades dataset's A to B direction is photos to labels.\n",
    "\n",
    "> If you would like to apply a pre-trained model to a collection of input images (rather than image pairs), please use --model test option. See ./scripts/test_single.sh for how to apply a model to Facade label maps (stored in the directory facades/testB).\n",
    "\n",
    "> See a list of currently available models at ./scripts/download_pix2pix_model.sh"
   ]
  },
  {
   "cell_type": "code",
   "execution_count": null,
   "metadata": {
    "colab": {},
    "colab_type": "code",
    "id": "mey7o6j-0368"
   },
   "outputs": [],
   "source": [
    "# !ls checkpoints/"
   ]
  },
  {
   "cell_type": "code",
   "execution_count": 2,
   "metadata": {
    "colab": {},
    "colab_type": "code",
    "id": "uCsKkEq0yGh0"
   },
   "outputs": [
    {
     "name": "stdout",
     "output_type": "stream",
     "text": [
      "----------------- Options ---------------\n",
      "             aspect_ratio: 1.0                           \n",
      "               batch_size: 1                             \n",
      "          checkpoints_dir: ./checkpoints                 \n",
      "                crop_size: 256                           \n",
      "                 dataroot: C:\\Users\\Kevin\\PycharmProjects\\pix2pix\\pytorch-CycleGAN-and-pix2pix\\datasets\t[default: None]\n",
      "             dataset_mode: aligned                       \n",
      "                direction: AtoB                          \n",
      "          display_winsize: 256                           \n",
      "                    epoch: latest                        \n",
      "                     eval: False                         \n",
      "                  gpu_ids: 0                             \n",
      "                init_gain: 0.02                          \n",
      "                init_type: normal                        \n",
      "                 input_nc: 3                             \n",
      "                  isTrain: False                         \t[default: None]\n",
      "                load_iter: 0                             \t[default: 0]\n",
      "                load_size: 256                           \n",
      "         max_dataset_size: inf                           \n",
      "                    model: pix2pix                       \t[default: test]\n",
      "               n_layers_D: 3                             \n",
      "                     name: unstain2stain_pix2pix         \t[default: experiment_name]\n",
      "                      ndf: 64                            \n",
      "                     netD: basic                         \n",
      "                     netG: unet_256                      \n",
      "                      ngf: 64                            \n",
      "               no_dropout: False                         \n",
      "                  no_flip: False                         \n",
      "                     norm: batch                         \n",
      "                 num_test: 50                            \n",
      "              num_threads: 4                             \n",
      "                output_nc: 3                             \n",
      "                    phase: test                          \n",
      "               preprocess: resize_and_crop               \n",
      "              results_dir: C:\\Users\\Kevin\\PycharmProjects\\pix2pix\\pytorch-CycleGAN-and-pix2pix\\results\t[default: ./results/]\n",
      "           serial_batches: False                         \n",
      "                   suffix:                               \n",
      "                use_wandb: False                         \n",
      "                  verbose: False                         \n",
      "       wandb_project_name: CycleGAN-and-pix2pix          \n",
      "----------------- End -------------------\n",
      "dataset [AlignedDataset] was created\n",
      "initialize network with normal\n",
      "model [Pix2PixModel] was created\n",
      "loading the model from ./checkpoints\\unstain2stain_pix2pix\\latest_net_G.pth\n",
      "---------- Networks initialized -------------\n",
      "[Network G] Total number of parameters : 54.414 M\n",
      "-----------------------------------------------\n",
      "creating web directory C:\\Users\\Kevin\\PycharmProjects\\pix2pix\\pytorch-CycleGAN-and-pix2pix\\results\\unstain2stain_pix2pix\\test_latest\n",
      "processing (0000)-th image... ['C:\\\\Users\\\\Kevin\\\\PycharmProjects\\\\pix2pix\\\\pytorch-CycleGAN-and-pix2pix\\\\datasets\\\\test\\\\xy0342.png']\n",
      "processing (0005)-th image... ['C:\\\\Users\\\\Kevin\\\\PycharmProjects\\\\pix2pix\\\\pytorch-CycleGAN-and-pix2pix\\\\datasets\\\\test\\\\xy0710.png']\n",
      "processing (0010)-th image... ['C:\\\\Users\\\\Kevin\\\\PycharmProjects\\\\pix2pix\\\\pytorch-CycleGAN-and-pix2pix\\\\datasets\\\\test\\\\xy0959.png']\n",
      "processing (0015)-th image... ['C:\\\\Users\\\\Kevin\\\\PycharmProjects\\\\pix2pix\\\\pytorch-CycleGAN-and-pix2pix\\\\datasets\\\\test\\\\xy1066.png']\n",
      "processing (0020)-th image... ['C:\\\\Users\\\\Kevin\\\\PycharmProjects\\\\pix2pix\\\\pytorch-CycleGAN-and-pix2pix\\\\datasets\\\\test\\\\xy1241.png']\n",
      "processing (0025)-th image... ['C:\\\\Users\\\\Kevin\\\\PycharmProjects\\\\pix2pix\\\\pytorch-CycleGAN-and-pix2pix\\\\datasets\\\\test\\\\xy1285.png']\n",
      "processing (0030)-th image... ['C:\\\\Users\\\\Kevin\\\\PycharmProjects\\\\pix2pix\\\\pytorch-CycleGAN-and-pix2pix\\\\datasets\\\\test\\\\xy1466.png']\n",
      "processing (0035)-th image... ['C:\\\\Users\\\\Kevin\\\\PycharmProjects\\\\pix2pix\\\\pytorch-CycleGAN-and-pix2pix\\\\datasets\\\\test\\\\xy1595.png']\n",
      "processing (0040)-th image... ['C:\\\\Users\\\\Kevin\\\\PycharmProjects\\\\pix2pix\\\\pytorch-CycleGAN-and-pix2pix\\\\datasets\\\\test\\\\xy1655.png']\n",
      "processing (0045)-th image... ['C:\\\\Users\\\\Kevin\\\\PycharmProjects\\\\pix2pix\\\\pytorch-CycleGAN-and-pix2pix\\\\datasets\\\\test\\\\xy1676.png']\n"
     ]
    }
   ],
   "source": [
    "!python test.py --dataroot C:\\Users\\Kevin\\PycharmProjects\\pix2pix\\pytorch-CycleGAN-and-pix2pix\\datasets --direction AtoB --model pix2pix --name unstain2stain_pix2pix --results_dir C:\\Users\\Kevin\\PycharmProjects\\pix2pix\\pytorch-CycleGAN-and-pix2pix\\results --num_test 50"
   ]
  },
  {
   "cell_type": "markdown",
   "source": [
    "### Inference for proof-of-concept: Tiled original unstained image -> run inference -> Output stained image tiles -> Reconstruct to fake WSI HE Image"
   ],
   "metadata": {
    "collapsed": false
   }
  },
  {
   "cell_type": "code",
   "execution_count": null,
   "outputs": [],
   "source": [],
   "metadata": {
    "collapsed": false
   }
  },
  {
   "cell_type": "code",
   "execution_count": null,
   "outputs": [],
   "source": [
    "!python test.py --dataroot C:\\Users\\Kevin\\PycharmProjects\\pix2pix\\pytorch-CycleGAN-and-pix2pix\\datasets --direction AtoB --model pix2pix --name poc_pix2pix --results_dir C:\\Users\\Kevin\\PycharmProjects\\pix2pix\\pytorch-CycleGAN-and-pix2pix\\results # --num_test 5000"
   ],
   "metadata": {
    "collapsed": false
   }
  },
  {
   "cell_type": "markdown",
   "metadata": {
    "colab_type": "text",
    "id": "OzSKIPUByfiN"
   },
   "source": [
    "# Visualize"
   ]
  },
  {
   "cell_type": "code",
   "execution_count": null,
   "metadata": {
    "colab": {},
    "colab_type": "code",
    "id": "9Mgg8raPyizq"
   },
   "outputs": [],
   "source": [
    "import matplotlib.pyplot as plt\n",
    "\n",
    "img = plt.imread('./results/facades_label2photo_pretrained/test_latest/images/100_fake_B.png')\n",
    "plt.imshow(img)"
   ]
  },
  {
   "cell_type": "code",
   "execution_count": null,
   "metadata": {
    "colab": {},
    "colab_type": "code",
    "id": "0G3oVH9DyqLQ"
   },
   "outputs": [],
   "source": [
    "img = plt.imread('./results/facades_label2photo_pretrained/test_latest/images/100_real_A.png')\n",
    "plt.imshow(img)"
   ]
  },
  {
   "cell_type": "code",
   "execution_count": null,
   "metadata": {
    "colab": {},
    "colab_type": "code",
    "id": "ErK5OC1j1LH4"
   },
   "outputs": [],
   "source": [
    "img = plt.imread('./results/facades_label2photo_pretrained/test_latest/images/100_real_B.png')\n",
    "plt.imshow(img)"
   ]
  }
 ],
 "metadata": {
  "accelerator": "GPU",
  "colab": {
   "collapsed_sections": [],
   "include_colab_link": true,
   "name": "pix2pix",
   "provenance": []
  },
  "environment": {
   "name": "tf2-gpu.2-3.m74",
   "type": "gcloud",
   "uri": "gcr.io/deeplearning-platform-release/tf2-gpu.2-3:m74"
  },
  "kernelspec": {
   "display_name": "Python 3",
   "language": "python",
   "name": "python3"
  },
  "language_info": {
   "codemirror_mode": {
    "name": "ipython",
    "version": 3
   },
   "file_extension": ".py",
   "mimetype": "text/x-python",
   "name": "python",
   "nbconvert_exporter": "python",
   "pygments_lexer": "ipython3",
   "version": "3.7.10"
  }
 },
 "nbformat": 4,
 "nbformat_minor": 4
}
